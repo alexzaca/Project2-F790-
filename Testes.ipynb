{
 "metadata": {
  "language_info": {
   "codemirror_mode": {
    "name": "ipython",
    "version": 3
   },
   "file_extension": ".py",
   "mimetype": "text/x-python",
   "name": "python",
   "nbconvert_exporter": "python",
   "pygments_lexer": "ipython3",
   "version": "3.9.5"
  },
  "orig_nbformat": 2,
  "kernelspec": {
   "name": "python395jvsc74a57bd0e04df6102ed78783b97fdd620b9f2a9311d58620d2815823e649c9ccaa705dbf",
   "display_name": "Python 3.9.5 64-bit ('PythonSoftwareFoundation.Python.3.9_qbz5n2kfra8p0')"
  },
  "metadata": {
   "interpreter": {
    "hash": "e04df6102ed78783b97fdd620b9f2a9311d58620d2815823e649c9ccaa705dbf"
   }
  }
 },
 "nbformat": 4,
 "nbformat_minor": 2,
 "cells": [
  {
   "cell_type": "code",
   "execution_count": 8,
   "metadata": {},
   "outputs": [
    {
     "output_type": "stream",
     "name": "stdout",
     "text": [
      "['oi'] \n [[1. 0. 0. 0.]\n [0. 1. 0. 0.]\n [0. 0. 1. 0.]\n [0. 0. 0. 1.]]\n"
     ]
    }
   ],
   "source": [
    "import numpy as np\n",
    "p = []\n",
    "p.append('oi')\n",
    "m = np.array([[1,0,0,0],[0,1,0,0],[0,0,1,0],[0,0,0,1]], dtype = float)\n",
    "p.append(m)\n",
    "m = p.pop()\n",
    "print(p,'\\n',m)"
   ]
  },
  {
   "cell_type": "code",
   "execution_count": 20,
   "metadata": {},
   "outputs": [
    {
     "output_type": "stream",
     "name": "stdout",
     "text": [
      "[-2, -2, 2]\n[-2, 2, 2]\n[2, -2, 2]\n[2, 2, 2]\n[-2, -2, -2]\n[-2, 2, -2]\n[2, -2, -2]\n[2, 2, -2]\n"
     ]
    }
   ],
   "source": [
    "L = 2\n",
    "vertices = [[-L,-L,L],[-L,L,L],[L,-L,L],[L,L,L],[-L,-L,-L],[-L,L,-L],[L,-L,-L],[L,L,-L]]\n",
    "for i in vertices:\n",
    "    print(i)\n",
    "        "
   ]
  },
  {
   "cell_type": "code",
   "execution_count": 30,
   "metadata": {},
   "outputs": [
    {
     "output_type": "stream",
     "name": "stdout",
     "text": [
      "-2\n2\n"
     ]
    }
   ],
   "source": [
    "for i in (-L,L):\n",
    "    print(i)"
   ]
  },
  {
   "cell_type": "code",
   "execution_count": 38,
   "metadata": {},
   "outputs": [
    {
     "output_type": "error",
     "ename": "TypeError",
     "evalue": "type list doesn't define __round__ method",
     "traceback": [
      "\u001b[1;31m---------------------------------------------------------------------------\u001b[0m",
      "\u001b[1;31mTypeError\u001b[0m                                 Traceback (most recent call last)",
      "\u001b[1;32m<ipython-input-38-48c89626014a>\u001b[0m in \u001b[0;36m<module>\u001b[1;34m\u001b[0m\n\u001b[0;32m      1\u001b[0m \u001b[1;32mimport\u001b[0m \u001b[0mmath\u001b[0m\u001b[1;33m\u001b[0m\u001b[1;33m\u001b[0m\u001b[0m\n\u001b[0;32m      2\u001b[0m \u001b[0mx\u001b[0m\u001b[1;33m=\u001b[0m\u001b[1;33m[\u001b[0m\u001b[1;36m2\u001b[0m\u001b[1;33m,\u001b[0m\u001b[1;36m2\u001b[0m\u001b[1;33m]\u001b[0m\u001b[1;33m\u001b[0m\u001b[1;33m\u001b[0m\u001b[0m\n\u001b[1;32m----> 3\u001b[1;33m \u001b[0mround\u001b[0m\u001b[1;33m(\u001b[0m\u001b[0mx\u001b[0m\u001b[1;33m)\u001b[0m\u001b[1;33m\u001b[0m\u001b[1;33m\u001b[0m\u001b[0m\n\u001b[0m\u001b[0;32m      4\u001b[0m \u001b[0mprint\u001b[0m\u001b[1;33m(\u001b[0m\u001b[0mfloat\u001b[0m\u001b[1;33m(\u001b[0m\u001b[0mx\u001b[0m\u001b[1;33m)\u001b[0m\u001b[1;33m)\u001b[0m\u001b[1;33m\u001b[0m\u001b[1;33m\u001b[0m\u001b[0m\n",
      "\u001b[1;31mTypeError\u001b[0m: type list doesn't define __round__ method"
     ]
    }
   ],
   "source": [
    "import math\n",
    "x=[2,2]\n",
    "round(x)\n",
    "print(float(x))\n"
   ]
  },
  {
   "cell_type": "code",
   "execution_count": 23,
   "metadata": {},
   "outputs": [
    {
     "output_type": "stream",
     "name": "stdout",
     "text": [
      "1 °  point \nx =  0.0 \ny =  0.0 \nz =  10.0 \n\n2 °  point \nx =  10.0 \ny =  0.0 \nz =  6.123233995736766e-16 \n\n3 °  point \nx =  6.123233995736766e-16 \ny =  10.0 \nz =  6.123233995736766e-16 \n\n4 °  point \nx =  -10.0 \ny =  1.2246467991473533e-15 \nz =  6.123233995736766e-16 \n\n5 °  point \nx =  -1.8369701987210296e-15 \ny =  -10.0 \nz =  6.123233995736766e-16 \n\n6 °  point \nx =  1.2246467991473533e-15 \ny =  0.0 \nz =  -10.0 \n\n"
     ]
    }
   ],
   "source": [
    "import numpy as np\n",
    "\n",
    "#Exemplo de um octaedro como o professor me mandou no slack \n",
    "r = 10\n",
    "count_p = 1\n",
    "count_m = 2\n",
    "pi = np.pi\n",
    "\n",
    "def sphere(quant_p,quant_m):\n",
    "    n=1\n",
    "    for j in range(0,quant_p+2):\n",
    "        theta = pi*j/(quant_p+1) \n",
    "        #Neste caso como temos um parelelo temos que quebrar o passo do theta em dois\n",
    "        for i in range(0,2*quant_m):\n",
    "            phi = pi*i/quant_m\n",
    "            #Aqui na verdade é 2*pi*i/(2*quant_m)\n",
    "\n",
    "            x = r*np.cos(phi)*np.sin(theta)\n",
    "            y = r*np.sin(theta)*np.sin(phi)\n",
    "            z = r*np.cos(theta)\n",
    "\n",
    "            print(n,'°',' point','\\nx = ',x,'\\ny = ',y,'\\nz = ',z,'\\n')\n",
    "            n+=1\n",
    "\n",
    "            #Verifica se são os polos para não calcular pontos a mais\n",
    "            if theta == 0 or theta == pi: \n",
    "                break\n",
    "\n",
    "sphere(count_p,count_m)\n"
   ]
  },
  {
   "cell_type": "code",
   "execution_count": 16,
   "metadata": {},
   "outputs": [
    {
     "output_type": "stream",
     "name": "stdout",
     "text": [
      "1\n2\n"
     ]
    }
   ],
   "source": [
    "for i in range(1,3):\n",
    "    print(i)"
   ]
  },
  {
   "cell_type": "code",
   "execution_count": 13,
   "metadata": {},
   "outputs": [
    {
     "output_type": "stream",
     "name": "stdout",
     "text": [
      "[0, 1, 2, 3] [0, 1, 2, 3]\n"
     ]
    }
   ],
   "source": [
    "v = [0,1,2,3,0,1,2,3]\n",
    "print(v[:4],v[4:8])"
   ]
  },
  {
   "cell_type": "code",
   "execution_count": 15,
   "metadata": {},
   "outputs": [
    {
     "output_type": "stream",
     "name": "stdout",
     "text": [
      "[[0.0, 0.0, 10.0], [10.0, 0.0, 6.123233995736766e-16], [6.123233995736766e-16, 10.0, 6.123233995736766e-16], [-10.0, 1.2246467991473533e-15, 6.123233995736766e-16], [-1.8369701987210296e-15, -10.0, 6.123233995736766e-16], [1.2246467991473533e-15, 0.0, -10.0]] 6\n"
     ]
    }
   ],
   "source": [
    "import numpy as np\n",
    "\n",
    "def sphere(r,quant_p,quant_m):\n",
    "    pi = np.pi\n",
    "    sphere_points = []\n",
    "    for j in range(0,quant_p+2):\n",
    "        theta = pi*j/(quant_p+1) \n",
    "        #Neste caso como temos um parelelo temos que quebrar o passo do theta em dois\n",
    "        for i in range(0,2*quant_m):\n",
    "            phi = pi*i/quant_m\n",
    "            #Aqui na verdade é 2*pi*i/(2*quant_m)\n",
    "\n",
    "            x = r*np.cos(phi)*np.sin(theta)\n",
    "            y = r*np.sin(theta)*np.sin(phi)\n",
    "            z = r*np.cos(theta)\n",
    "\n",
    "            sphere_points.append([x,y,z])\n",
    "\n",
    "            #Verifica se são os polos para não calcular pontos a mais\n",
    "            if theta == 0 or theta == pi: \n",
    "                break\n",
    "    return sphere_points\n",
    "\n",
    "sphere_point = sphere(10,1,2)\n",
    "print(sphere_point,len(sphere_point))"
   ]
  },
  {
   "cell_type": "code",
   "execution_count": 46,
   "metadata": {},
   "outputs": [
    {
     "output_type": "stream",
     "name": "stdout",
     "text": [
      "1\n2\n3\n4\n\n\n4\n3\n2\n1\n"
     ]
    }
   ],
   "source": [
    "v = [0,1,2,3,4,5]\n",
    "\n",
    "for i in range(1,5):\n",
    "    print(v[i])\n",
    "print('\\n')\n",
    "for i in range(2,6):    \n",
    "    print(v[len(v)-i])"
   ]
  },
  {
   "cell_type": "code",
   "execution_count": 79,
   "metadata": {},
   "outputs": [
    {
     "output_type": "stream",
     "name": "stdout",
     "text": [
      "[1, 2, 3, 4]\n1\n8\n3\n10\n\n\n2\n9\n4\n11\n\n\n"
     ]
    }
   ],
   "source": [
    "v = [0,[1,2,3,4],[8,9,10,11],5]\n",
    "\n",
    "for i in range(1,len(v)-2):\n",
    "    for j in range(0,4):\n",
    "        v = v    \n",
    "        #print(v[i][j],v[i+1][j])\n",
    "    #print('\\n')\n",
    "for i in range(1,2):\n",
    "    print(v[i][0:4])\n",
    "\n",
    "for j in range(0,2):\n",
    "    for i in range(1,3):\n",
    "        print(v[i][j])\n",
    "    for i in range(1,3):\n",
    "        print(v[i][j+2])\n",
    "    print('\\n')    "
   ]
  },
  {
   "cell_type": "code",
   "execution_count": 30,
   "metadata": {},
   "outputs": [
    {
     "output_type": "stream",
     "name": "stdout",
     "text": [
      "[[1, 2, 3], [4, 5, 6], [7, 8, 9]]\n[7, 8, 9] [1, 2, 3]\n[1, 2, 3] [4, 5, 6]\n[4, 5, 6] [7, 8, 9]\n"
     ]
    }
   ],
   "source": [
    "v = [0,1,2,3,4,5,6,7,8,9]\n",
    "p = []\n",
    "for i in range(1,len(v)-1,3):\n",
    "    p.append([v[i],v[i+1],v[i+2]])\n",
    "print(p)\n",
    "\n",
    "for i in range(-1,len(p)-1):\n",
    "    print(p[i],p[i+1])\n",
    "\n",
    "n = [0,[[1,2],3,4],[5,6,7,8],9]\n",
    "p.append(n[1][0])\n",
    "#print(p)"
   ]
  },
  {
   "cell_type": "code",
   "execution_count": 70,
   "metadata": {},
   "outputs": [
    {
     "output_type": "stream",
     "name": "stdout",
     "text": [
      "1\n"
     ]
    }
   ],
   "source": [
    "L = 1\n",
    "\n",
    "vertices = [[-L,-L,L],[-L,L,L],[L,L,L],[L,-L,L],[-L,-L,-L],[-L,L,-L],[L,L,-L],[L,-L,-L]]\n",
    "p=vertices[:4]\n",
    "print(p[0][2])        "
   ]
  },
  {
   "cell_type": "code",
   "execution_count": 73,
   "metadata": {},
   "outputs": [
    {
     "output_type": "stream",
     "name": "stdout",
     "text": [
      "1\n2\n"
     ]
    }
   ],
   "source": [
    "for i in range(1,3):\n",
    "    print(i)"
   ]
  },
  {
   "cell_type": "code",
   "execution_count": 42,
   "metadata": {},
   "outputs": [
    {
     "output_type": "stream",
     "name": "stdout",
     "text": [
      "[[[0, 0, 10]], [[8, 0, 5], [4, 7, 5], [-4, 7, 5], [-8, 0, 5], [-4, -7, 5], [4, -7, 5]], [[8, 0, -4], [4, 7, -4], [-4, 7, -4], [-8, 0, -4], [-4, -7, -4], [4, -7, -4]], [[0, 0, -10]]] 4 \n\n"
     ]
    },
    {
     "output_type": "error",
     "ename": "IndexError",
     "evalue": "list index out of range",
     "traceback": [
      "\u001b[1;31m---------------------------------------------------------------------------\u001b[0m",
      "\u001b[1;31mIndexError\u001b[0m                                Traceback (most recent call last)",
      "\u001b[1;32m<ipython-input-42-0e4e18f8ddc1>\u001b[0m in \u001b[0;36m<module>\u001b[1;34m\u001b[0m\n\u001b[0;32m     38\u001b[0m     \u001b[0ms\u001b[0m\u001b[1;33m.\u001b[0m\u001b[0mappend\u001b[0m\u001b[1;33m(\u001b[0m\u001b[0msphere_point\u001b[0m\u001b[1;33m[\u001b[0m\u001b[1;33m-\u001b[0m\u001b[1;36m1\u001b[0m\u001b[1;33m]\u001b[0m\u001b[1;33m[\u001b[0m\u001b[1;36m0\u001b[0m\u001b[1;33m]\u001b[0m\u001b[1;33m)\u001b[0m\u001b[1;33m\u001b[0m\u001b[1;33m\u001b[0m\u001b[0m\n\u001b[0;32m     39\u001b[0m     \u001b[1;32mfor\u001b[0m \u001b[0mk\u001b[0m \u001b[1;32min\u001b[0m \u001b[0mrange\u001b[0m\u001b[1;33m(\u001b[0m\u001b[1;36m3\u001b[0m\u001b[1;33m,\u001b[0m \u001b[1;36m0\u001b[0m\u001b[1;33m,\u001b[0m\u001b[1;33m-\u001b[0m\u001b[1;36m1\u001b[0m\u001b[1;33m)\u001b[0m\u001b[1;33m:\u001b[0m\u001b[1;33m\u001b[0m\u001b[1;33m\u001b[0m\u001b[0m\n\u001b[1;32m---> 40\u001b[1;33m         \u001b[0ms\u001b[0m\u001b[1;33m.\u001b[0m\u001b[0mappend\u001b[0m\u001b[1;33m(\u001b[0m\u001b[0msphere_point\u001b[0m\u001b[1;33m[\u001b[0m\u001b[0mk\u001b[0m\u001b[1;33m]\u001b[0m\u001b[1;33m[\u001b[0m\u001b[0mj\u001b[0m\u001b[1;33m+\u001b[0m\u001b[1;36m3\u001b[0m\u001b[1;33m]\u001b[0m\u001b[1;33m)\u001b[0m\u001b[1;33m\u001b[0m\u001b[1;33m\u001b[0m\u001b[0m\n\u001b[0m\u001b[0;32m     41\u001b[0m     \u001b[0mprint\u001b[0m\u001b[1;33m(\u001b[0m\u001b[0ms\u001b[0m\u001b[1;33m)\u001b[0m\u001b[1;33m\u001b[0m\u001b[1;33m\u001b[0m\u001b[0m\n",
      "\u001b[1;31mIndexError\u001b[0m: list index out of range"
     ]
    }
   ],
   "source": [
    "import numpy as np\n",
    "\n",
    "def sphere(r,quant_m,quant_p):\n",
    "    pi = np.pi\n",
    "    #Points of sphere from de north pole, parallel by parallel, to south pole\n",
    "    sphere_points = []\n",
    "    #Join the points from a parallel to then be add as a element in the sphere_points\n",
    "    intermediary = [] \n",
    "    for j in range(0,quant_p+2):\n",
    "        theta = pi*j/(quant_p+1) \n",
    "        #print(theta,'o')\n",
    "        for i in range(0,2*quant_m):\n",
    "            phi = pi*i/quant_m\n",
    "            #print(phi,phi-pi)\n",
    "            #Aqui na verdade é 2*pi*i/(2*quant_m)\n",
    "\n",
    "            x = int(r*np.cos(phi)*np.sin(theta))\n",
    "            y = int(r*np.sin(theta)*np.sin(phi))\n",
    "            z = int(r*np.cos(theta))\n",
    "\n",
    "            intermediary.append([x,y,z])\n",
    "            \n",
    "            #Make the interruption of the loop if it was the pole \n",
    "            if theta == 0 or theta == pi: \n",
    "                break\n",
    "        #Adiciona um elemento com os pontos de um paralelo e limpa o intermediary\n",
    "        sphere_points.append(intermediary)\n",
    "        intermediary = []\n",
    "    return sphere_points\n",
    "\n",
    "sphere_point = sphere(10,3,2)\n",
    "print(sphere_point,len(sphere_point),'\\n')\n",
    "for j in range(0,3):\n",
    "    s=[]\n",
    "    s.append(sphere_point[0][0])\n",
    "    for k in range(1, 3):\n",
    "        s.append(sphere_point[k][j])\n",
    "    s.append(sphere_point[-1][0])\n",
    "    for k in range(3, 0,-1):\n",
    "        s.append(sphere_point[k][j+3])\n",
    "    print(s)"
   ]
  },
  {
   "cell_type": "code",
   "execution_count": 9,
   "metadata": {},
   "outputs": [
    {
     "output_type": "stream",
     "name": "stdout",
     "text": [
      "[-100. -100. -600.    1.]\n"
     ]
    }
   ],
   "source": [
    "import numpy as np\n",
    "\n",
    "transform_matrix = np.array([[1,0,0,0],[0,1,0,0],[0,0,1,-500],[0,0,0,1]], dtype = float)\n",
    "p = transform_matrix.dot([float(-100),float(-100),float(-100),1])\n",
    "\n",
    "print(p)"
   ]
  },
  {
   "cell_type": "code",
   "execution_count": 16,
   "metadata": {},
   "outputs": [
    {
     "output_type": "stream",
     "name": "stdout",
     "text": [
      "<class 'int'> 200 [200.0]\n"
     ]
    }
   ],
   "source": [
    "f = [200.0] \n",
    "n = int(f[0])\n",
    "print(type(n),n,f)"
   ]
  },
  {
   "cell_type": "code",
   "execution_count": 61,
   "metadata": {},
   "outputs": [
    {
     "output_type": "stream",
     "name": "stdout",
     "text": [
      "-1 1 1 -1 -1 -1\n\n\n-1 1 -1 -1 -1 1\n\n\n1 1 1 1 -1 -1\n\n\n1 1 -1 1 -1 1\n\n\n"
     ]
    }
   ],
   "source": [
    "L = 1\n",
    "\n",
    "for j in (-L,L):\n",
    "    for i in (1,-1):\n",
    "        #print(L,i*L,j,-L,-i*L,j)\n",
    "\n",
    "        #print(L,j,i*L,-L,j,-i*L)\n",
    "\n",
    "        print(j,L,i*L,j,-L,-i*L)\n",
    "        \n",
    "        print('\\n')"
   ]
  },
  {
   "cell_type": "code",
   "execution_count": null,
   "metadata": {},
   "outputs": [],
   "source": []
  }
 ]
}